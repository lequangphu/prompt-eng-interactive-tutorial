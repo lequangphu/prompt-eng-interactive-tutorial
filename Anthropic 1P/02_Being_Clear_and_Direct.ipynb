{
 "cells": [
  {
   "cell_type": "markdown",
   "metadata": {},
   "source": [
    "# Chapter 2: Being Clear and Direct\n",
    "\n",
    "- [Lesson](#lesson)\n",
    "- [Exercises](#exercises)\n",
    "- [Example Playground](#example-playground)\n",
    "\n",
    "## Setup\n",
    "\n",
    "Run the following setup cell to load your API key and establish the `get_completion` helper function."
   ]
  },
  {
   "cell_type": "code",
   "execution_count": 2,
   "metadata": {},
   "outputs": [],
   "source": [
    "# !pip install anthropic\n",
    "\n",
    "# Import python's built-in regular expression library\n",
    "import re\n",
    "import anthropic\n",
    "\n",
    "import os\n",
    "from dotenv import load_dotenv\n",
    "\n",
    "load_dotenv()\n",
    "API_KEY = os.environ.get(\"ANTHROPIC_API_KEY\")\n",
    "MODEL_NAME = \"claude-3-haiku-20240307\"\n",
    "\n",
    "client = anthropic.Anthropic(api_key=API_KEY)\n",
    "\n",
    "# Note that we changed max_tokens to 4K just for this lesson to allow for longer completions in the exercises\n",
    "def get_completion(prompt: str, system_prompt=\"\"):\n",
    "    message = client.messages.create(\n",
    "        model=MODEL_NAME,\n",
    "        max_tokens=4000,\n",
    "        temperature=0.0,\n",
    "        system=system_prompt,\n",
    "        messages=[\n",
    "          {\"role\": \"user\", \"content\": prompt}\n",
    "        ]\n",
    "    )\n",
    "    return message.content[0].text"
   ]
  },
  {
   "cell_type": "markdown",
   "metadata": {},
   "source": [
    "---\n",
    "\n",
    "## Lesson\n",
    "\n",
    "**Claude responds best to clear and direct instructions.**\n",
    "\n",
    "Think of Claude like any other human that is new to the job. **Claude has no context** on what to do aside from what you literally tell it. Just as when you instruct a human for the first time on a task, the more you explain exactly what you want in a straightforward manner to Claude, the better and more accurate Claude's response will be.\"\t\t\t\t\n",
    "\t\t\t\t\n",
    "When in doubt, follow the **Golden Rule of Clear Prompting**:\n",
    "- Show your prompt to a colleague or friend and have them follow the instructions themselves to see if they can produce the result you want. If they're confused, Claude's confused.\t\t\t\t"
   ]
  },
  {
   "cell_type": "markdown",
   "metadata": {},
   "source": [
    "### Examples\n",
    "\n",
    "Let's take a task like writing poetry. (Ignore any syllable mismatch - LLMs aren't great at counting syllables yet.)"
   ]
  },
  {
   "cell_type": "code",
   "execution_count": 3,
   "metadata": {},
   "outputs": [
    {
     "name": "stdout",
     "output_type": "stream",
     "text": [
      "Here is a haiku about robots:\n",
      "\n",
      "Metallic beings\n",
      "Programmed to serve and obey\n",
      "Artificial life\n"
     ]
    }
   ],
   "source": [
    "# Prompt\n",
    "PROMPT = \"Write a haiku about robots.\"\n",
    "\n",
    "# Print Claude's response\n",
    "print(get_completion(PROMPT))"
   ]
  },
  {
   "cell_type": "markdown",
   "metadata": {},
   "source": [
    "This haiku is nice enough, but users may want Claude to go directly into the poem without the \"Here is a haiku\" preamble.\n",
    "\n",
    "How do we achieve that? We **ask for it**!"
   ]
  },
  {
   "cell_type": "code",
   "execution_count": 4,
   "metadata": {},
   "outputs": [
    {
     "name": "stdout",
     "output_type": "stream",
     "text": [
      "Metallic beings,\n",
      "Programmed to serve and obey,\n",
      "Robots, our creations.\n"
     ]
    }
   ],
   "source": [
    "# Prompt\n",
    "PROMPT = \"Write a haiku about robots. Skip the preamble; go straight into the poem.\"\n",
    "\n",
    "# Print Claude's response\n",
    "print(get_completion(PROMPT))"
   ]
  },
  {
   "cell_type": "markdown",
   "metadata": {},
   "source": [
    "Here's another example. Let's ask Claude who's the best basketball player of all time. You can see below that while Claude lists a few names, **it doesn't respond with a definitive \"best\"**."
   ]
  },
  {
   "cell_type": "code",
   "execution_count": 5,
   "metadata": {},
   "outputs": [
    {
     "name": "stdout",
     "output_type": "stream",
     "text": [
      "There is no universally agreed upon \"best basketball player of all time.\" It's a highly debated topic, as there have been many all-time great players throughout the history of the sport. Some of the players often considered among the greatest of all time include:\n",
      "\n",
      "- Michael Jordan - Widely regarded as one of the greatest, if not the greatest, player ever. He won 6 NBA championships with the Chicago Bulls.\n",
      "\n",
      "- LeBron James - One of the most dominant and well-rounded players of the modern era. He has won 4 NBA titles with 3 different teams.\n",
      "\n",
      "- Kareem Abdul-Jabbar - Legendary center who won 6 NBA championships and holds the record for most career points scored.\n",
      "\n",
      "- Wilt Chamberlain - Dominant big man who holds numerous NBA records including most points in a game (100).\n",
      "\n",
      "- Magic Johnson - Pioneering point guard who led the \"Showtime\" Lakers to 5 NBA titles.\n",
      "\n",
      "- Bill Russell - Defensive anchor and 11-time NBA champion with the Boston Celtics.\n",
      "\n",
      "There are good arguments for several players as the \"GOAT\" (greatest of all time), but it ultimately comes down to personal opinion and how one weighs different accomplishments and skills. The debate continues among basketball fans and experts.\n"
     ]
    }
   ],
   "source": [
    "# Prompt\n",
    "PROMPT = \"Who is the best basketball player of all time?\"\n",
    "\n",
    "# Print Claude's response\n",
    "print(get_completion(PROMPT))"
   ]
  },
  {
   "cell_type": "markdown",
   "metadata": {},
   "source": [
    "Can we get Claude to make up its mind and decide on a best player? Yes! Just ask!"
   ]
  },
  {
   "cell_type": "code",
   "execution_count": 6,
   "metadata": {},
   "outputs": [
    {
     "name": "stdout",
     "output_type": "stream",
     "text": [
      "There is no definitive consensus on who the single \"best\" basketball player of all time is, as it is a highly subjective and debatable topic. However, if I had to choose one player, the player I would consider the best of all time is Michael Jordan.\n",
      "\n",
      "Some key reasons why I would pick Michael Jordan:\n",
      "\n",
      "- Dominant statistical career - Jordan is one of the most statistically dominant players in NBA history, with career averages of 30.1 points, 5.3 assists, 6.2 rebounds per game. He won 5 MVP awards.\n",
      "\n",
      "- Unparalleled individual accomplishments - Jordan won 6 NBA championships, 6 NBA Finals MVPs, 10 scoring titles, and made the NBA All-Defensive First Team 9 times. His resume is unmatched.\n",
      "\n",
      "- Transformative impact on the game - Jordan's style of play, competitiveness, and global popularity helped take the NBA to new heights of popularity and influence. He is widely considered the most famous and influential basketball player ever.\n",
      "\n",
      "- Sustained excellence over a long career - Jordan was an elite, dominant player for over a decade, winning his first title in 1991 and his last in 1998. He maintained an incredibly high level of play for an extended period.\n",
      "\n",
      "Of course, there are other all-time greats like LeBron James, Kareem Abdul-Jabbar, Wilt Chamberlain, etc. who also have strong cases. But in my opinion, Michael Jordan's combination of individual accolades, team success, and transformative impact on the sport make him the best basketball player of all time.\n"
     ]
    }
   ],
   "source": [
    "# Prompt\n",
    "PROMPT = \"Who is the best basketball player of all time? Yes, there are differing opinions, but if you absolutely had to pick one player, who would it be?\"\n",
    "\n",
    "# Print Claude's response\n",
    "print(get_completion(PROMPT))"
   ]
  },
  {
   "cell_type": "markdown",
   "metadata": {},
   "source": [
    "If you would like to experiment with the lesson prompts without changing any content above, scroll all the way to the bottom of the lesson notebook to visit the [**Example Playground**](#example-playground)."
   ]
  },
  {
   "cell_type": "markdown",
   "metadata": {},
   "source": [
    "---\n",
    "\n",
    "## Exercises\n",
    "- [Exercise 2.1 - Spanish](#exercise-21---spanish)\n",
    "- [Exercise 2.2 - One Player Only](#exercise-22---one-player-only)\n",
    "- [Exercise 2.3 - Write a Story](#exercise-23---write-a-story)"
   ]
  },
  {
   "cell_type": "markdown",
   "metadata": {},
   "source": [
    "### Exercise 2.1 - Spanish\n",
    "Modify the `SYSTEM_PROMPT` to make Claude output its answer in Spanish."
   ]
  },
  {
   "cell_type": "code",
   "execution_count": 7,
   "metadata": {},
   "outputs": [
    {
     "name": "stdout",
     "output_type": "stream",
     "text": [
      "¡Hola! Estoy bien, gracias por preguntar. ¿Cómo estás tú?\n",
      "\n",
      "--------------------------- GRADING ---------------------------\n",
      "This exercise has been correctly solved: True\n"
     ]
    }
   ],
   "source": [
    "# System prompt - this is the only field you should chnage\n",
    "SYSTEM_PROMPT = \"answer in Spanish\"\n",
    "\n",
    "# Prompt\n",
    "PROMPT = \"Hello Claude, how are you?\"\n",
    "\n",
    "# Get Claude's response\n",
    "response = get_completion(PROMPT, SYSTEM_PROMPT)\n",
    "\n",
    "# Function to grade exercise correctness\n",
    "def grade_exercise(text):\n",
    "    return \"hola\" in text.lower()\n",
    "\n",
    "# Print Claude's response and the corresponding grade\n",
    "print(response)\n",
    "print(\"\\n--------------------------- GRADING ---------------------------\")\n",
    "print(\"This exercise has been correctly solved:\", grade_exercise(response))"
   ]
  },
  {
   "cell_type": "markdown",
   "metadata": {},
   "source": [
    "❓ If you want a hint, run the cell below!"
   ]
  },
  {
   "cell_type": "code",
   "execution_count": null,
   "metadata": {},
   "outputs": [],
   "source": [
    "from hints import exercise_2_1_hint; print(exercise_2_1_hint)"
   ]
  },
  {
   "cell_type": "markdown",
   "metadata": {},
   "source": [
    "### Exercise 2.2 - One Player Only\n",
    "\n",
    "Modify the `PROMPT` so that Claude doesn't equivocate at all and responds with **ONLY** the name of one specific player, with **no other words or punctuation**. "
   ]
  },
  {
   "cell_type": "code",
   "execution_count": 11,
   "metadata": {},
   "outputs": [
    {
     "name": "stdout",
     "output_type": "stream",
     "text": [
      "Michael Jordan\n",
      "\n",
      "--------------------------- GRADING ---------------------------\n",
      "This exercise has been correctly solved: True\n"
     ]
    }
   ],
   "source": [
    "# Prompt - this is the only field you should change\n",
    "PROMPT = \"the best basketball player? Pick one player, response with the name only\"\n",
    "\n",
    "# Get Claude's response\n",
    "response = get_completion(PROMPT)\n",
    "\n",
    "# Function to grade exercise correctness\n",
    "def grade_exercise(text):\n",
    "    return text == \"Michael Jordan\"\n",
    "\n",
    "# Print Claude's response and the corresponding grade\n",
    "print(response)\n",
    "print(\"\\n--------------------------- GRADING ---------------------------\")\n",
    "print(\"This exercise has been correctly solved:\", grade_exercise(response))"
   ]
  },
  {
   "cell_type": "markdown",
   "metadata": {},
   "source": [
    "❓ If you want a hint, run the cell below!"
   ]
  },
  {
   "cell_type": "code",
   "execution_count": null,
   "metadata": {},
   "outputs": [],
   "source": [
    "from hints import exercise_2_2_hint; print(exercise_2_2_hint)"
   ]
  },
  {
   "cell_type": "markdown",
   "metadata": {},
   "source": [
    "### Exercise 2.3 - Write a Story\n",
    "\n",
    "Modify the `PROMPT` so that Claude responds with as long a response as you can muster. If your answer is **over 800 words**, Claude's response will be graded as correct."
   ]
  },
  {
   "cell_type": "code",
   "execution_count": 13,
   "metadata": {},
   "outputs": [
    {
     "name": "stdout",
     "output_type": "stream",
     "text": [
      "Vietnam has a rich and complex history that spans thousands of years. From its ancient civilizations to its modern-day challenges, the country has endured numerous conflicts, invasions, and periods of political and social upheaval. Here is a comprehensive overview of Vietnam's history:\n",
      "\n",
      "Ancient Civilizations and Early History:\n",
      "The history of Vietnam can be traced back to the Bronze Age, with the emergence of the Dong Son culture in the Red River Delta region around 2,000 BCE. This ancient civilization was known for its advanced bronze drum technology and its influence on the development of Southeast Asian cultures. The Hung Kings, who are considered the first rulers of Vietnam, established the first Vietnamese state, known as Van Lang, in the 3rd century BCE.\n",
      "\n",
      "In the 2nd century BCE, the Chinese Han dynasty conquered the region and incorporated it into the Chinese empire, marking the beginning of a long period of Chinese domination and influence over Vietnam. During this time, Vietnamese culture and society were heavily influenced by Chinese traditions, including the adoption of Confucianism, Taoism, and Buddhism.\n",
      "\n",
      "The Ly, Tran, and Le Dynasties:\n",
      "In the 10th century, Vietnam regained its independence from China and established a series of powerful dynasties that ruled the country for centuries. The Ly dynasty (1009-1225) was the first of these, and it was during this time that the capital city of Hanoi was established and the country's cultural and political institutions were further developed.\n",
      "\n",
      "The Tran dynasty (1225-1400) followed, and it was during this period that Vietnam successfully defended its independence against several Mongol invasions. The Le dynasty (1428-1788) then took power, and it was during this time that Vietnam expanded its territory and influence throughout Southeast Asia.\n",
      "\n",
      "The Nguyen Dynasty and French Colonization:\n",
      "In the early 19th century, the Nguyen dynasty came to power and ruled over a unified Vietnam. However, this period was marked by increasing French colonial influence and the gradual erosion of Vietnamese sovereignty. In 1883, France formally colonized Vietnam and incorporated it into the French Indochina empire, which also included Laos and Cambodia.\n",
      "\n",
      "Under French rule, Vietnam experienced significant social and economic changes, including the introduction of new technologies, infrastructure, and administrative systems. However, the colonial period was also marked by widespread resistance and nationalist movements, as the Vietnamese people sought to regain their independence.\n",
      "\n",
      "The First Indochina War and the Vietnam War:\n",
      "In the aftermath of World War II, the Vietnamese nationalist movement, led by Ho Chi Minh and the Viet Minh, launched a successful war of independence against the French, known as the First Indochina War (1946-1954). The war ended with the Geneva Accords of 1954, which temporarily divided Vietnam into a communist north and a non-communist south.\n",
      "\n",
      "The division of Vietnam led to the outbreak of the Vietnam War (1955-1975), a prolonged and bloody conflict between the communist North Vietnamese government and the U.S.-backed South Vietnamese government. The war was a major geopolitical event of the Cold War era, with the United States and its allies supporting the South Vietnamese government, while the Soviet Union and China provided aid to the North Vietnamese.\n",
      "\n",
      "After years of intense fighting and massive casualties on both sides, the North Vietnamese forces eventually emerged victorious, and in 1975, they reunified the country under communist rule. The Vietnam War had a profound impact on both Vietnam and the United States, with lasting social, political, and economic consequences.\n",
      "\n",
      "The Doi Moi Reforms and Modern Vietnam:\n",
      "In the aftermath of the Vietnam War, the country faced significant economic and social challenges, including widespread poverty, food shortages, and political repression. In 1986, the Vietnamese government launched a series of market-oriented reforms known as Doi Moi, which aimed to transition the country from a centrally planned economy to a more market-based system.\n",
      "\n",
      "The Doi Moi reforms were largely successful, leading to rapid economic growth, increased foreign investment, and a significant reduction in poverty. However, the transition has also been accompanied by growing social and political tensions, as the government has struggled to balance its commitment to economic reform with its desire to maintain tight political control.\n",
      "\n",
      "Today, Vietnam is a rapidly developing country with a growing middle class and a dynamic, export-oriented economy. It has also become an increasingly important player on the global stage, with a growing influence in regional and international affairs. However, the country continues to face significant challenges, including environmental degradation, income inequality, and ongoing political and social tensions.\n",
      "\n",
      "Overall, Vietnam's history is a complex and multifaceted story of resilience, struggle, and transformation. From its ancient civilizations to its modern-day challenges, the country has endured numerous conflicts and invasions, but has also demonstrated a remarkable ability to adapt and reinvent itself. As Vietnam continues to navigate the challenges of the 21st century, its rich history and cultural heritage will undoubtedly continue to shape its future.\n",
      "\n",
      "--------------------------- GRADING ---------------------------\n",
      "This exercise has been correctly solved: True\n"
     ]
    }
   ],
   "source": [
    "# Prompt - this is the only field you should change\n",
    "PROMPT = \"tell me about Vietnam history. Response with at least 800 words\"\n",
    "\n",
    "# Get Claude's response\n",
    "response = get_completion(PROMPT)\n",
    "\n",
    "# Function to grade exercise correctness\n",
    "def grade_exercise(text):\n",
    "    trimmed = text.strip()\n",
    "    words = len(trimmed.split())\n",
    "    return words >= 800\n",
    "\n",
    "# Print Claude's response and the corresponding grade\n",
    "print(response)\n",
    "print(\"\\n--------------------------- GRADING ---------------------------\")\n",
    "print(\"This exercise has been correctly solved:\", grade_exercise(response))"
   ]
  },
  {
   "cell_type": "markdown",
   "metadata": {},
   "source": [
    "❓ If you want a hint, run the cell below!"
   ]
  },
  {
   "cell_type": "code",
   "execution_count": null,
   "metadata": {},
   "outputs": [],
   "source": [
    "from hints import exercise_2_3_hint; print(exercise_2_3_hint)"
   ]
  },
  {
   "cell_type": "markdown",
   "metadata": {},
   "source": [
    "### Congrats!\n",
    "\n",
    "If you've solved all exercises up until this point, you're ready to move to the next chapter. Happy prompting!"
   ]
  },
  {
   "cell_type": "markdown",
   "metadata": {},
   "source": [
    "---\n",
    "\n",
    "## Example Playground\n",
    "\n",
    "This is an area for you to experiment freely with the prompt examples shown in this lesson and tweak prompts to see how it may affect Claude's responses."
   ]
  },
  {
   "cell_type": "code",
   "execution_count": null,
   "metadata": {},
   "outputs": [],
   "source": [
    "# Prompt\n",
    "PROMPT = \"Write a haiku about robots.\"\n",
    "\n",
    "# Print Claude's response\n",
    "print(get_completion(PROMPT))"
   ]
  },
  {
   "cell_type": "code",
   "execution_count": null,
   "metadata": {},
   "outputs": [],
   "source": [
    "# Prompt\n",
    "PROMPT = \"Write a haiku about robots. Skip the preamble; go straight into the poem.\"\n",
    "\n",
    "# Print Claude's response\n",
    "print(get_completion(PROMPT))"
   ]
  },
  {
   "cell_type": "code",
   "execution_count": null,
   "metadata": {},
   "outputs": [],
   "source": [
    "# Prompt\n",
    "PROMPT = \"Who is the best basketball player of all time?\"\n",
    "\n",
    "# Print Claude's response\n",
    "print(get_completion(PROMPT))"
   ]
  },
  {
   "cell_type": "code",
   "execution_count": null,
   "metadata": {},
   "outputs": [],
   "source": [
    "# Prompt\n",
    "PROMPT = \"Who is the best basketball player of all time? Yes, there are differing opinions, but if you absolutely had to pick one player, who would it be?\"\n",
    "\n",
    "# Print Claude's response\n",
    "print(get_completion(PROMPT))"
   ]
  }
 ],
 "metadata": {
  "kernelspec": {
   "display_name": ".venv",
   "language": "python",
   "name": "python3"
  },
  "language_info": {
   "codemirror_mode": {
    "name": "ipython",
    "version": 3
   },
   "file_extension": ".py",
   "mimetype": "text/x-python",
   "name": "python",
   "nbconvert_exporter": "python",
   "pygments_lexer": "ipython3",
   "version": "3.13.1"
  }
 },
 "nbformat": 4,
 "nbformat_minor": 2
}
